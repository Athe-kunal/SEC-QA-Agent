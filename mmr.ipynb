{
 "cells": [
  {
   "cell_type": "code",
   "execution_count": 1,
   "metadata": {},
   "outputs": [
    {
     "name": "stderr",
     "output_type": "stream",
     "text": [
      "/home/athekunal/.local/lib/python3.10/site-packages/tqdm/auto.py:21: TqdmWarning: IProgress not found. Please update jupyter and ipywidgets. See https://ipywidgets.readthedocs.io/en/stable/user_install.html\n",
      "  from .autonotebook import tqdm as notebook_tqdm\n",
      "No sentence-transformers model found with name /home/athekunal/.cache/torch/sentence_transformers/ProsusAI_finbert. Creating a new one with MEAN pooling.\n",
      "Some weights of the model checkpoint at /home/athekunal/.cache/torch/sentence_transformers/ProsusAI_finbert were not used when initializing BertModel: ['classifier.weight', 'classifier.bias']\n",
      "- This IS expected if you are initializing BertModel from the checkpoint of a model trained on another task or with another architecture (e.g. initializing a BertForSequenceClassification model from a BertForPreTraining model).\n",
      "- This IS NOT expected if you are initializing BertModel from the checkpoint of a model that you expect to be exactly identical (initializing a BertForSequenceClassification model from a BertForSequenceClassification model).\n"
     ]
    }
   ],
   "source": [
    "from load_database import load_vector_store_local\n",
    "\n",
    "vecstore = load_vector_store_local(\"sec-10-K\",\"10-K\")"
   ]
  },
  {
   "cell_type": "code",
   "execution_count": 2,
   "metadata": {},
   "outputs": [],
   "source": [
    "import chromadb\n",
    "\n",
    "query_results = vecstore.query(\n",
    "    query_texts=\"What are the risk factors of Apple for 2022?\",\n",
    "    n_results=20,\n",
    "    where={'full_metadata':'AAPL_2022_RISK_FACTORS_10-K'},\n",
    "    include=[\"metadatas\",\"documents\",\"distances\",\"embeddings\"]\n",
    ")"
   ]
  },
  {
   "cell_type": "code",
   "execution_count": 3,
   "metadata": {},
   "outputs": [
    {
     "data": {
      "text/plain": [
       "20"
      ]
     },
     "execution_count": 3,
     "metadata": {},
     "output_type": "execute_result"
    }
   ],
   "source": [
    "len(query_results['embeddings'][0])"
   ]
  },
  {
   "cell_type": "code",
   "execution_count": 4,
   "metadata": {},
   "outputs": [
    {
     "data": {
      "text/plain": [
       "dict_keys(['ids', 'embeddings', 'documents', 'metadatas', 'distances'])"
      ]
     },
     "execution_count": 4,
     "metadata": {},
     "output_type": "execute_result"
    }
   ],
   "source": [
    "query_results.keys()"
   ]
  },
  {
   "cell_type": "code",
   "execution_count": 5,
   "metadata": {},
   "outputs": [],
   "source": [
    "from chromadb.utils import embedding_functions\n",
    "\n",
    "\n",
    "default_ef = embedding_functions.DefaultEmbeddingFunction()\n",
    "\n",
    "query_embed = default_ef(texts=\"What are the risk factors of Apple for 2022?\")"
   ]
  },
  {
   "cell_type": "code",
   "execution_count": 6,
   "metadata": {},
   "outputs": [],
   "source": [
    "# query_embed"
   ]
  },
  {
   "cell_type": "code",
   "execution_count": 14,
   "metadata": {},
   "outputs": [],
   "source": [
    "llm1_output_dict = {'Section_Names': ['RISK_FACTORS',\n",
    "  'MARKET_RISK_DISCLOSURES',\n",
    "  'LEGAL_PROCEEDINGS',\n",
    "  'UNRESOLVED_STAFF_COMMENTS',\n",
    "  'MINE_SAFETY'],\n",
    " 'Tickers': ['AAPL', 'TSLA'],\n",
    " 'Years': ['2021', '2022'],\n",
    " 'augmented_query': ['What is the risk associated with Apple stock in 2021?',\n",
    "  'What is the risk associated with Tesla stock in 2021?',\n",
    "  'What is the risk associated with Apple stock in 2022?',\n",
    "  'What is the risk associated with Tesla stock in 2022?']}"
   ]
  },
  {
   "cell_type": "code",
   "execution_count": 8,
   "metadata": {},
   "outputs": [],
   "source": [
    "s = \"TSLA_2023_RISK_FACTORS_10-K\""
   ]
  },
  {
   "cell_type": "code",
   "execution_count": 9,
   "metadata": {},
   "outputs": [],
   "source": [
    "import itertools\n",
    "section_names = llm1_output_dict['Section_Names']\n",
    "ticker_names = llm1_output_dict['Tickers']\n",
    "years = llm1_output_dict['Years']\n",
    "doc_name = \"10-K\"\n",
    "individual_metadata = [elem[0]+\"_\"+elem[1]+\"_\"+elem[2]+\"_\"+doc_name for elem in list(itertools.product(ticker_names,years,section_names))]"
   ]
  },
  {
   "cell_type": "code",
   "execution_count": 10,
   "metadata": {},
   "outputs": [
    {
     "data": {
      "text/plain": [
       "['AAPL_2021_RISK_FACTORS_10-K',\n",
       " 'AAPL_2021_MARKET_RISK_DISCLOSURES_10-K',\n",
       " 'AAPL_2021_LEGAL_PROCEEDINGS_10-K',\n",
       " 'AAPL_2021_UNRESOLVED_STAFF_COMMENTS_10-K',\n",
       " 'AAPL_2021_MINE_SAFETY_10-K',\n",
       " 'AAPL_2022_RISK_FACTORS_10-K',\n",
       " 'AAPL_2022_MARKET_RISK_DISCLOSURES_10-K',\n",
       " 'AAPL_2022_LEGAL_PROCEEDINGS_10-K',\n",
       " 'AAPL_2022_UNRESOLVED_STAFF_COMMENTS_10-K',\n",
       " 'AAPL_2022_MINE_SAFETY_10-K',\n",
       " 'TSLA_2021_RISK_FACTORS_10-K',\n",
       " 'TSLA_2021_MARKET_RISK_DISCLOSURES_10-K',\n",
       " 'TSLA_2021_LEGAL_PROCEEDINGS_10-K',\n",
       " 'TSLA_2021_UNRESOLVED_STAFF_COMMENTS_10-K',\n",
       " 'TSLA_2021_MINE_SAFETY_10-K',\n",
       " 'TSLA_2022_RISK_FACTORS_10-K',\n",
       " 'TSLA_2022_MARKET_RISK_DISCLOSURES_10-K',\n",
       " 'TSLA_2022_LEGAL_PROCEEDINGS_10-K',\n",
       " 'TSLA_2022_UNRESOLVED_STAFF_COMMENTS_10-K',\n",
       " 'TSLA_2022_MINE_SAFETY_10-K']"
      ]
     },
     "execution_count": 10,
     "metadata": {},
     "output_type": "execute_result"
    }
   ],
   "source": [
    "individual_metadata"
   ]
  },
  {
   "cell_type": "code",
   "execution_count": 11,
   "metadata": {},
   "outputs": [],
   "source": [
    "from load_database import load_vector_store_local\n",
    "from utils import maximal_marginal_relevance\n",
    "vecstore = load_vector_store_local(\"sec-10-K\",\"10-K\")"
   ]
  },
  {
   "cell_type": "code",
   "execution_count": 11,
   "metadata": {},
   "outputs": [],
   "source": [
    "from chromadb.utils import embedding_functions\n",
    "query = \"What are the risk Factors of Apple and Tesla for the year 2022 and 2021?\"\n",
    "\n",
    "\n",
    "default_ef = embedding_functions.DefaultEmbeddingFunction()\n",
    "\n",
    "query_embed = default_ef(texts=query)\n",
    "# query_embed"
   ]
  },
  {
   "cell_type": "code",
   "execution_count": 12,
   "metadata": {},
   "outputs": [
    {
     "data": {
      "text/plain": [
       "(384,)"
      ]
     },
     "execution_count": 12,
     "metadata": {},
     "output_type": "execute_result"
    }
   ],
   "source": [
    "import numpy as np\n",
    "query_embed_arr = np.array(query_embed[0])\n",
    "query_embed_arr.shape"
   ]
  },
  {
   "cell_type": "code",
   "execution_count": 28,
   "metadata": {},
   "outputs": [
    {
     "name": "stdout",
     "output_type": "stream",
     "text": [
      "5 5\n",
      "5 5\n",
      "5 5\n",
      "5 5\n"
     ]
    }
   ],
   "source": [
    "from collections import defaultdict\n",
    "all_relevant_docs = defaultdict()\n",
    "for tic in ticker_names:\n",
    "    for yr in years:\n",
    "        individual_metadata = [{\"full_metadata\":elem[0]+\"_\"+elem[1]+\"_\"+elem[2]+\"_\"+doc_name} for elem in list(itertools.product([tic],[yr],section_names))]\n",
    "        where_clause = {\"$or\":individual_metadata}\n",
    "        query_results = vecstore.query(\n",
    "        query_texts=query,\n",
    "        n_results=20,\n",
    "        where=where_clause,\n",
    "        include=[\"metadatas\",\"documents\",\"distances\",\"embeddings\"]\n",
    "        )\n",
    "        idxs = maximal_marginal_relevance(query_embed_arr,query_results['embeddings'][0],k=5)\n",
    "        relevant_docs = [query_results['documents'][0][i] for i in idxs]\n",
    "        relevant_metadata = [ query_results['metadatas'][0][i] for i in idxs]\n",
    "        print(len(relevant_docs),len(relevant_metadata))\n",
    "        all_relevant_docs[f\"{tic}_{yr}\"] = {\"docs\":relevant_docs,\"metadata\":relevant_metadata}"
   ]
  },
  {
   "cell_type": "code",
   "execution_count": 18,
   "metadata": {},
   "outputs": [
    {
     "data": {
      "text/plain": [
       "dict_keys(['AAPL_2021', 'AAPL_2022', 'TSLA_2021', 'TSLA_2022'])"
      ]
     },
     "execution_count": 18,
     "metadata": {},
     "output_type": "execute_result"
    }
   ],
   "source": [
    "all_relevant_docs.keys()"
   ]
  },
  {
   "cell_type": "code",
   "execution_count": 43,
   "metadata": {},
   "outputs": [],
   "source": [
    "# query_results['embeddings'][0]"
   ]
  },
  {
   "cell_type": "code",
   "execution_count": 44,
   "metadata": {},
   "outputs": [
    {
     "data": {
      "text/plain": [
       "[12, 14, 19, 11, 7]"
      ]
     },
     "execution_count": 44,
     "metadata": {},
     "output_type": "execute_result"
    }
   ],
   "source": [
    "idxs = maximal_marginal_relevance(query_embed_arr,query_results['embeddings'][0],k=5)\n",
    "idxs"
   ]
  },
  {
   "cell_type": "code",
   "execution_count": 53,
   "metadata": {},
   "outputs": [],
   "source": [
    "relevant_docs = [query_results['documents'][0][i] for i in idxs]\n",
    "relevant_metadata = [ query_results['metadatas'][0][i] for i in idxs]"
   ]
  },
  {
   "cell_type": "code",
   "execution_count": 54,
   "metadata": {},
   "outputs": [
    {
     "data": {
      "text/plain": [
       "[{'full_metadata': 'AAPL_2022_RISK_FACTORS_10-K'},\n",
       " {'full_metadata': 'AAPL_2022_RISK_FACTORS_10-K'},\n",
       " {'full_metadata': 'AAPL_2022_RISK_FACTORS_10-K'},\n",
       " {'full_metadata': 'AAPL_2022_RISK_FACTORS_10-K'},\n",
       " {'full_metadata': 'AAPL_2022_RISK_FACTORS_10-K'}]"
      ]
     },
     "execution_count": 54,
     "metadata": {},
     "output_type": "execute_result"
    }
   ],
   "source": [
    "relevant_metadata"
   ]
  },
  {
   "cell_type": "code",
   "execution_count": 24,
   "metadata": {},
   "outputs": [
    {
     "name": "stdout",
     "output_type": "stream",
     "text": [
      "AAPL_2021 {'docs': 'The Company’s business, results of operations and financial condition, as well as the price of the Company’s stock, have been adversely affected and could in the future be materially adversely affected by the COVID-19 pandemic.\\n COVID-19 has had, and continues to have, a significant impact around the world, prompting governments and businesses to take unprecedented measures in response. The Company’s minority market share in the global smartphone, personal computer and tablet markets can make developers less inclined to develop or upgrade software for the Company’s products and more inclined to devote their resources to developing and upgrading software for competitors’ products with larger market share.\\n When developers focus their efforts on these competing platforms, the availability and quality of applications for the Company’s devices can suffer. These new ventures are inherently risky and may not be successful.\\n The failure of any significant investment could adversely affect the Company’s business, reputation, results of operations and financial condition.\\n The Company’s retail stores have required and will continue to require a substantial investment and commitment of resources and are subject to numerous risks and uncertainties. life cycles; potential increases in the cost of components, outside manufacturing services, and developing, acquiring and delivering content for the Company’s services; the Company’s ability to manage product quality and warranty costs effectively; shifts in the mix of products and services, or in the geographic, currency or channel mix, including to the extent that regulatory changes require the Company to modify its product and service offerings; fluctuations in foreign exchange rates; and The number of claims, legal proceedings and government investigations involving the Company, and the alleged magnitude of such claims, proceedings and government investigations, has generally increased over time and may continue to increase.\\n The Company has faced and continues to face a significant number of patent claims relating to its cellular-enabled products, and new claims may arise in the future.', 'metadata': [{'full_metadata': 'AAPL_2021_RISK_FACTORS_10-K'}, {'full_metadata': 'AAPL_2021_RISK_FACTORS_10-K'}, {'full_metadata': 'AAPL_2021_RISK_FACTORS_10-K'}, {'full_metadata': 'AAPL_2021_RISK_FACTORS_10-K'}, {'full_metadata': 'AAPL_2021_RISK_FACTORS_10-K'}]}\n"
     ]
    }
   ],
   "source": [
    "for k,v in all_relevant_docs.items():\n",
    "    print(k,v)\n",
    "    break"
   ]
  },
  {
   "cell_type": "code",
   "execution_count": 30,
   "metadata": {},
   "outputs": [
    {
     "name": "stdout",
     "output_type": "stream",
     "text": [
      "{'docs': ['The Company’s business, results of operations and financial condition, as well as the price of the Company’s stock, have been adversely affected and could in the future be materially adversely affected by the COVID-19 pandemic.\\n COVID-19 has had, and continues to have, a significant impact around the world, prompting governments and businesses to take unprecedented measures in response.', 'The Company’s minority market share in the global smartphone, personal computer and tablet markets can make developers less inclined to develop or upgrade software for the Company’s products and more inclined to devote their resources to developing and upgrading software for competitors’ products with larger market share.\\n When developers focus their efforts on these competing platforms, the availability and quality of applications for the Company’s devices can suffer.', 'These new ventures are inherently risky and may not be successful.\\n The failure of any significant investment could adversely affect the Company’s business, reputation, results of operations and financial condition.\\n The Company’s retail stores have required and will continue to require a substantial investment and commitment of resources and are subject to numerous risks and uncertainties.', 'life cycles; potential increases in the cost of components, outside manufacturing services, and developing, acquiring and delivering content for the Company’s services; the Company’s ability to manage product quality and warranty costs effectively; shifts in the mix of products and services, or in the geographic, currency or channel mix, including to the extent that regulatory changes require the Company to modify its product and service offerings; fluctuations in foreign exchange rates; and', 'The number of claims, legal proceedings and government investigations involving the Company, and the alleged magnitude of such claims, proceedings and government investigations, has generally increased over time and may continue to increase.\\n The Company has faced and continues to face a significant number of patent claims relating to its cellular-enabled products, and new claims may arise in the future.'], 'metadata': [{'full_metadata': 'AAPL_2021_RISK_FACTORS_10-K'}, {'full_metadata': 'AAPL_2021_RISK_FACTORS_10-K'}, {'full_metadata': 'AAPL_2021_RISK_FACTORS_10-K'}, {'full_metadata': 'AAPL_2021_RISK_FACTORS_10-K'}, {'full_metadata': 'AAPL_2021_RISK_FACTORS_10-K'}]}\n",
      "{'docs': ['To the extent the COVID-19 pandemic adversely affects the Company’s business, results of operations, financial condition and stock price, it may also have the effect of heightening many of the other risks described in this Part I, Item 1A of this Form 10-K.\\n The Company’s business can be impacted by political events, trade and other international disputes, war, terrorism, natural disasters, public health issues, industrial accidents and other business interruptions.', 'The Company’s minority market share in the global smartphone, personal computer and tablet markets can make developers less inclined to develop or upgrade software for the Company’s products and more inclined to devote their resources to developing and upgrading software for competitors’ products with larger market share.\\n When developers focus their efforts on these competing platforms, the availability and quality of applications for the Company’s devices can suffer.', 'The Company’s gross margins are subject to volatility and downward pressure due to a variety of factors, including: continued industry-wide global product pricing pressures and product pricing actions that the Company may take in response to such pressures; increased competition; the Company’s ability to effectively stimulate demand for certain of its products and services; compressed product life cycles; supply shortages; potential increases in the cost of components, outside manufacturing', 'These new ventures are inherently risky and may not be successful.\\n The failure of any significant investment could materially adversely affect the Company’s business, reputation, results of operations and financial condition.\\n The Company’s retail stores have required and will continue to require a substantial investment and commitment of resources and are subject to numerous risks and uncertainties.', 'The number of claims, legal proceedings and government investigations involving the Company, and the alleged magnitude of such claims, proceedings and government investigations, has generally increased over time and may continue to increase.\\n The Company has faced and continues to face a significant number of patent claims relating to its cellular-enabled products, and new claims may arise in the future.'], 'metadata': [{'full_metadata': 'AAPL_2022_RISK_FACTORS_10-K'}, {'full_metadata': 'AAPL_2022_RISK_FACTORS_10-K'}, {'full_metadata': 'AAPL_2022_RISK_FACTORS_10-K'}, {'full_metadata': 'AAPL_2022_RISK_FACTORS_10-K'}, {'full_metadata': 'AAPL_2022_RISK_FACTORS_10-K'}]}\n",
      "{'docs': ['Unexpected changes in business conditions, materials pricing, labor issues, wars, governmental changes, tariffs, natural disasters such as the March 2011 earthquakes in Japan, health epidemics such as the global COVID-19 pandemic, trade and shipping disruptions and other factors beyond our or our suppliers’ control could also affect these suppliers’ ability to deliver components to us or to remain solvent and operational.', 'We may also experience similar future delays in launching and/or ramping production of our energy storage products and Solar Roof; new product versions or variants; new vehicles such as Tesla Semi, Cybertruck and the new Tesla Roadster; and future features and services such as new Autopilot or FSD features and the autonomous Tesla ride-hailing network.', 'Such estimates are inherently uncertain and changes to our historical or projected experience, especially with respect to products such as Model 3, Model Y and Solar Roof that we have recently introduced and/or that we expect to produce at significantly greater volumes than our past products, may cause material changes to our warranty reserves in the future.\\n Our insurance coverage strategy may not be adequate to protect us from all business risks.', 'In particular, Tesla’s products, business, results of operations, statements and actions are well-publicized by a range of third parties.\\n Such attention includes frequent criticism, which is often exaggerated or unfounded, such as speculation regarding the sufficiency or stability of our management team.\\n Any such negative perceptions, whether caused by us or not, may harm our business and make it more difficult to raise additional funds if needed.', 'It is uncertain as to how such macroeconomic factors will impact us as a company that has been experiencing growth and increasing market share in an industry that has globally been experiencing a recent decline in sales.\\n concerns about our future viability.\\n Finally, the target demographics for our vehicles, particularly Model 3 and Model Y, are highly competitive.'], 'metadata': [{'full_metadata': 'TSLA_2021_RISK_FACTORS_10-K'}, {'full_metadata': 'TSLA_2021_RISK_FACTORS_10-K'}, {'full_metadata': 'TSLA_2021_RISK_FACTORS_10-K'}, {'full_metadata': 'TSLA_2021_RISK_FACTORS_10-K'}, {'full_metadata': 'TSLA_2021_RISK_FACTORS_10-K'}]}\n",
      "{'docs': ['Unexpected changes in business conditions, materials pricing, labor issues, wars, trade policies, natural disasters such as the March 2011 earthquakes in Japan, health epidemics such as the global COVID-19 pandemic, trade and shipping disruptions, port congestions and other factors beyond our or our suppliers’ control could also affect these suppliers’ ability to deliver components to us or to remain solvent and operational.', 'Our current and future warranty reserves may be insufficient to cover future warranty claims.\\n We provide a manufacturer’s warranty on all new and used Tesla vehicles we sell.\\n We also provide certain warranties with respect to the energy generation and storage systems we sell, including on their installation and maintenance.', '15 Finally, the target demographics for our vehicles, particularly Model 3 and Model Y, are highly competitive.\\n Sales of vehicles in the automotive industry tend to be cyclical in many markets, which may expose us to further volatility.\\n Our suppliers may fail to deliver components according to schedules, prices, quality and volumes that are acceptable to us, or we may be unable to manage these components effectively.', 'In particular, Tesla’s products, business, results of operations, statements and actions are well-publicized by a range of third parties.\\n Such attention includes frequent criticism, which is often exaggerated or unfounded, such as speculation regarding the sufficiency or stability of our management team.\\n Any such negative perceptions, whether caused by us or not, may harm our business and make it more difficult to raise additional funds if needed.', 'Increased competition could result in our lower vehicle unit sales, price reductions, revenue shortfalls, loss of customers and loss of market share, which may harm our business, financial condition and operating results.\\n We also face competition in our energy generation and storage business from other manufacturers, developers, installers and service providers of competing energy technologies, as well as from large utilities.'], 'metadata': [{'full_metadata': 'TSLA_2022_RISK_FACTORS_10-K'}, {'full_metadata': 'TSLA_2022_RISK_FACTORS_10-K'}, {'full_metadata': 'TSLA_2022_RISK_FACTORS_10-K'}, {'full_metadata': 'TSLA_2022_RISK_FACTORS_10-K'}, {'full_metadata': 'TSLA_2022_RISK_FACTORS_10-K'}]}\n"
     ]
    },
    {
     "data": {
      "text/plain": [
       "1271"
      ]
     },
     "execution_count": 30,
     "metadata": {},
     "output_type": "execute_result"
    }
   ],
   "source": [
    "def get_relevant_docs_via_mmr(relevant_docs_dict:dict):\n",
    "    relevant_sentences = \"\"\n",
    "\n",
    "    for key,value in relevant_docs_dict.items():\n",
    "        tic,year = key.split(\"_\")\n",
    "        relevant_sentences+=f\"Relevant documents for {tic} in the year {year}\"+\": \"\n",
    "        print(value)\n",
    "        relevant_sentences+=\"\\n\".join(value['docs'])\n",
    "        relevant_sentences+=\"\\n\\n\"\n",
    "    \n",
    "    return relevant_sentences\n",
    "\n",
    "len(get_relevant_docs_via_mmr(all_relevant_docs).split(\" \"))"
   ]
  },
  {
   "cell_type": "code",
   "execution_count": 31,
   "metadata": {},
   "outputs": [],
   "source": [
    "from utils import key_modifier,modify_all_keys,get_query_metadata,get_relevant_sentences,maximal_marginal_relevance\n"
   ]
  },
  {
   "cell_type": "code",
   "execution_count": 1,
   "metadata": {},
   "outputs": [
    {
     "name": "stderr",
     "output_type": "stream",
     "text": [
      "/home/athekunal/.local/lib/python3.10/site-packages/tqdm/auto.py:21: TqdmWarning: IProgress not found. Please update jupyter and ipywidgets. See https://ipywidgets.readthedocs.io/en/stable/user_install.html\n",
      "  from .autonotebook import tqdm as notebook_tqdm\n",
      "No sentence-transformers model found with name /home/athekunal/.cache/torch/sentence_transformers/ProsusAI_finbert. Creating a new one with MEAN pooling.\n",
      "Some weights of the model checkpoint at /home/athekunal/.cache/torch/sentence_transformers/ProsusAI_finbert were not used when initializing BertModel: ['classifier.weight', 'classifier.bias']\n",
      "- This IS expected if you are initializing BertModel from the checkpoint of a model trained on another task or with another architecture (e.g. initializing a BertForSequenceClassification model from a BertForPreTraining model).\n",
      "- This IS NOT expected if you are initializing BertModel from the checkpoint of a model that you expect to be exactly identical (initializing a BertForSequenceClassification model from a BertForSequenceClassification model).\n"
     ]
    }
   ],
   "source": [
    "from load_database import get_relevant_dict_with_mmr,get_relevant_docs_via_mmr\n",
    "from load_database import load_vector_store_local\n",
    "from utils import maximal_marginal_relevance\n",
    "vecstore = load_vector_store_local(\"sec-10-K\",\"10-K\")\n"
   ]
  },
  {
   "cell_type": "code",
   "execution_count": 2,
   "metadata": {},
   "outputs": [],
   "source": [
    "from collections import defaultdict\n",
    "from chromadb.api.types import Documents, EmbeddingFunction, Embeddings\n",
    "from chromadb.utils import embedding_functions\n",
    "import numpy as np\n",
    "import itertools"
   ]
  },
  {
   "cell_type": "code",
   "execution_count": 15,
   "metadata": {},
   "outputs": [],
   "source": [
    "\n",
    "def get_relevant_dict_with_mmr_(llm1_output_dict,restore_collection,user_query,doc_name=\"10-K\"):\n",
    "    section_names = llm1_output_dict['Section_Names']\n",
    "    ticker_names = llm1_output_dict['Tickers']\n",
    "    years = llm1_output_dict['Years']\n",
    "    all_relevant_docs = defaultdict()\n",
    "    default_ef = embedding_functions.DefaultEmbeddingFunction()\n",
    "    query_embed = default_ef(texts=user_query)\n",
    "    query_embed_arr = np.array(query_embed[0])\n",
    "\n",
    "    for tic in ticker_names:\n",
    "        for yr in years:\n",
    "            individual_metadata = [{\"full_metadata\":elem[0]+\"_\"+elem[1]+\"_\"+elem[2]+\"_\"+doc_name} for elem in list(itertools.product([tic],[yr],section_names))]\n",
    "            print(individual_metadata)\n",
    "            where_clause = {\"$or\":individual_metadata}\n",
    "            print(where_clause)\n",
    "            query_results = restore_collection.query(\n",
    "            query_texts=user_query,\n",
    "            n_results=20,\n",
    "            where=where_clause,\n",
    "            include=[\"metadatas\",\"documents\",\"distances\",\"embeddings\"]\n",
    "            )\n",
    "            print(query_results)\n",
    "            idxs = maximal_marginal_relevance(query_embed_arr,query_results['embeddings'][0],k=5)\n",
    "            relevant_docs = [query_results['documents'][0][i] for i in idxs]\n",
    "            relevant_metadata = [ query_results['metadatas'][0][i] for i in idxs]\n",
    "            all_relevant_docs[f\"{tic}_{yr}\"] = {\"docs\":relevant_docs,\"metadata\":relevant_metadata}\n",
    "\n",
    "    return all_relevant_docs"
   ]
  },
  {
   "cell_type": "code",
   "execution_count": 16,
   "metadata": {},
   "outputs": [
    {
     "name": "stdout",
     "output_type": "stream",
     "text": [
      "name='SEC-10-K' id=UUID('68fc286d-f5c1-45c4-893b-58f73a6a7e3c') metadata=None\n"
     ]
    }
   ],
   "source": [
    "print(vecstore)"
   ]
  },
  {
   "cell_type": "code",
   "execution_count": 8,
   "metadata": {},
   "outputs": [
    {
     "name": "stdout",
     "output_type": "stream",
     "text": [
      "{'$or': [{'full_metadata': 'AAPL_2021_RISK FACTORS_10-K'}, {'full_metadata': 'AAPL_2021_MARKET RISK DISCLOSURES_10-K'}, {'full_metadata': 'AAPL_2021_LEGAL PROCEEDINGS_10-K'}, {'full_metadata': 'AAPL_2021_UNRESOLVED STAFF COMMENTS_10-K'}, {'full_metadata': 'AAPL_2021_MINE SAFETY_10-K'}]}\n",
      "{'ids': [[]], 'embeddings': [[]], 'documents': [[]], 'metadatas': [[]], 'distances': [[]]}\n",
      "{'$or': [{'full_metadata': 'AAPL_2022_RISK FACTORS_10-K'}, {'full_metadata': 'AAPL_2022_MARKET RISK DISCLOSURES_10-K'}, {'full_metadata': 'AAPL_2022_LEGAL PROCEEDINGS_10-K'}, {'full_metadata': 'AAPL_2022_UNRESOLVED STAFF COMMENTS_10-K'}, {'full_metadata': 'AAPL_2022_MINE SAFETY_10-K'}]}\n",
      "{'ids': [[]], 'embeddings': [[]], 'documents': [[]], 'metadatas': [[]], 'distances': [[]]}\n",
      "defaultdict(None, {'AAPL_2021': {'docs': [], 'metadata': []}, 'AAPL_2022': {'docs': [], 'metadata': []}})\n"
     ]
    }
   ],
   "source": [
    "llm1_output_dict = {'Section_Names': ['RISK_FACTORS', 'MARKET RISK DISCLOSURES', 'LEGAL PROCEEDINGS', 'UNRESOLVED STAFF COMMENTS', 'MINE SAFETY'], 'Tickers': ['AAPL'], 'Years': ['2021', '2022'], 'augmented_query': ['Compare the risk associated with Apple stock for the year 2021', 'Compare the risk associated with Apple stock for the year 2022']}\n",
    "relevant_dict = get_relevant_dict_with_mmr_(llm1_output_dict,vecstore,\"Compare the risk associated with Apple stock for the years 2021 and 2022?\")\n",
    "print(relevant_dict)\n"
   ]
  },
  {
   "cell_type": "code",
   "execution_count": null,
   "metadata": {},
   "outputs": [],
   "source": [
    "relevant_sentences = get_relevant_docs_via_mmr(relevant_dict)\n",
    "print(relevant_sentences)"
   ]
  },
  {
   "cell_type": "code",
   "execution_count": 17,
   "metadata": {},
   "outputs": [],
   "source": [
    "# user_query = \"Compare the risk associated with Apple stock for the years 2021 and 2022?\"\n",
    "# vecstore.query(\n",
    "#     query_texts=user_query,\n",
    "#     n_results=2,\n",
    "#     include=[\"metadatas\",\"documents\",\"distances\",\"embeddings\"]\n",
    "#     )"
   ]
  },
  {
   "cell_type": "code",
   "execution_count": 20,
   "metadata": {},
   "outputs": [
    {
     "data": {
      "text/plain": [
       "'RISK_FACTORS'"
      ]
     },
     "execution_count": 20,
     "metadata": {},
     "output_type": "execute_result"
    }
   ],
   "source": [
    "\"_\".join(\"RISK_FACTORS\".split(\" \"))"
   ]
  },
  {
   "cell_type": "code",
   "execution_count": null,
   "metadata": {},
   "outputs": [],
   "source": []
  }
 ],
 "metadata": {
  "kernelspec": {
   "display_name": "Python 3",
   "language": "python",
   "name": "python3"
  },
  "language_info": {
   "codemirror_mode": {
    "name": "ipython",
    "version": 3
   },
   "file_extension": ".py",
   "mimetype": "text/x-python",
   "name": "python",
   "nbconvert_exporter": "python",
   "pygments_lexer": "ipython3",
   "version": "3.10.6"
  },
  "orig_nbformat": 4
 },
 "nbformat": 4,
 "nbformat_minor": 2
}
