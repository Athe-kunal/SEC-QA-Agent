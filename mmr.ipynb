{
 "cells": [
  {
   "cell_type": "code",
   "execution_count": 1,
   "metadata": {},
   "outputs": [
    {
     "name": "stderr",
     "output_type": "stream",
     "text": [
      "/home/athekunal/.local/lib/python3.10/site-packages/tqdm/auto.py:21: TqdmWarning: IProgress not found. Please update jupyter and ipywidgets. See https://ipywidgets.readthedocs.io/en/stable/user_install.html\n",
      "  from .autonotebook import tqdm as notebook_tqdm\n",
      "No sentence-transformers model found with name /home/athekunal/.cache/torch/sentence_transformers/ProsusAI_finbert. Creating a new one with MEAN pooling.\n",
      "Some weights of the model checkpoint at /home/athekunal/.cache/torch/sentence_transformers/ProsusAI_finbert were not used when initializing BertModel: ['classifier.weight', 'classifier.bias']\n",
      "- This IS expected if you are initializing BertModel from the checkpoint of a model trained on another task or with another architecture (e.g. initializing a BertForSequenceClassification model from a BertForPreTraining model).\n",
      "- This IS NOT expected if you are initializing BertModel from the checkpoint of a model that you expect to be exactly identical (initializing a BertForSequenceClassification model from a BertForSequenceClassification model).\n"
     ]
    }
   ],
   "source": [
    "from load_database import load_vector_store_local\n",
    "\n",
    "vecstore = load_vector_store_local(\"sec-10-K\",\"10-K\")"
   ]
  },
  {
   "cell_type": "code",
   "execution_count": 2,
   "metadata": {},
   "outputs": [],
   "source": [
    "import chromadb\n",
    "\n",
    "query_results = vecstore.query(\n",
    "    query_texts=\"What are the risk factors of Apple for 2022?\",\n",
    "    n_results=20,\n",
    "    where={'full_metadata':'AAPL_2022_RISK_FACTORS_10-K'},\n",
    "    include=[\"metadatas\",\"documents\",\"distances\",\"embeddings\"]\n",
    ")"
   ]
  },
  {
   "cell_type": "code",
   "execution_count": 3,
   "metadata": {},
   "outputs": [
    {
     "data": {
      "text/plain": [
       "20"
      ]
     },
     "execution_count": 3,
     "metadata": {},
     "output_type": "execute_result"
    }
   ],
   "source": [
    "len(query_results['embeddings'][0])"
   ]
  },
  {
   "cell_type": "code",
   "execution_count": 4,
   "metadata": {},
   "outputs": [
    {
     "data": {
      "text/plain": [
       "dict_keys(['ids', 'embeddings', 'documents', 'metadatas', 'distances'])"
      ]
     },
     "execution_count": 4,
     "metadata": {},
     "output_type": "execute_result"
    }
   ],
   "source": [
    "query_results.keys()"
   ]
  },
  {
   "cell_type": "code",
   "execution_count": 5,
   "metadata": {},
   "outputs": [],
   "source": [
    "from chromadb.utils import embedding_functions\n",
    "\n",
    "\n",
    "default_ef = embedding_functions.DefaultEmbeddingFunction()\n",
    "\n",
    "query_embed = default_ef(texts=\"What are the risk factors of Apple for 2022?\")"
   ]
  },
  {
   "cell_type": "code",
   "execution_count": 6,
   "metadata": {},
   "outputs": [],
   "source": [
    "# query_embed"
   ]
  },
  {
   "cell_type": "code",
   "execution_count": 14,
   "metadata": {},
   "outputs": [],
   "source": [
    "llm1_output_dict = {'Section_Names': ['RISK_FACTORS',\n",
    "  'MARKET_RISK_DISCLOSURES',\n",
    "  'LEGAL_PROCEEDINGS',\n",
    "  'UNRESOLVED_STAFF_COMMENTS',\n",
    "  'MINE_SAFETY'],\n",
    " 'Tickers': ['AAPL', 'TSLA'],\n",
    " 'Years': ['2021', '2022'],\n",
    " 'augmented_query': ['What is the risk associated with Apple stock in 2021?',\n",
    "  'What is the risk associated with Tesla stock in 2021?',\n",
    "  'What is the risk associated with Apple stock in 2022?',\n",
    "  'What is the risk associated with Tesla stock in 2022?']}"
   ]
  },
  {
   "cell_type": "code",
   "execution_count": 8,
   "metadata": {},
   "outputs": [],
   "source": [
    "s = \"TSLA_2023_RISK_FACTORS_10-K\""
   ]
  },
  {
   "cell_type": "code",
   "execution_count": 9,
   "metadata": {},
   "outputs": [],
   "source": [
    "import itertools\n",
    "section_names = llm1_output_dict['Section_Names']\n",
    "ticker_names = llm1_output_dict['Tickers']\n",
    "years = llm1_output_dict['Years']\n",
    "doc_name = \"10-K\"\n",
    "individual_metadata = [elem[0]+\"_\"+elem[1]+\"_\"+elem[2]+\"_\"+doc_name for elem in list(itertools.product(ticker_names,years,section_names))]"
   ]
  },
  {
   "cell_type": "code",
   "execution_count": 10,
   "metadata": {},
   "outputs": [
    {
     "data": {
      "text/plain": [
       "['AAPL_2021_RISK_FACTORS_10-K',\n",
       " 'AAPL_2021_MARKET_RISK_DISCLOSURES_10-K',\n",
       " 'AAPL_2021_LEGAL_PROCEEDINGS_10-K',\n",
       " 'AAPL_2021_UNRESOLVED_STAFF_COMMENTS_10-K',\n",
       " 'AAPL_2021_MINE_SAFETY_10-K',\n",
       " 'AAPL_2022_RISK_FACTORS_10-K',\n",
       " 'AAPL_2022_MARKET_RISK_DISCLOSURES_10-K',\n",
       " 'AAPL_2022_LEGAL_PROCEEDINGS_10-K',\n",
       " 'AAPL_2022_UNRESOLVED_STAFF_COMMENTS_10-K',\n",
       " 'AAPL_2022_MINE_SAFETY_10-K',\n",
       " 'TSLA_2021_RISK_FACTORS_10-K',\n",
       " 'TSLA_2021_MARKET_RISK_DISCLOSURES_10-K',\n",
       " 'TSLA_2021_LEGAL_PROCEEDINGS_10-K',\n",
       " 'TSLA_2021_UNRESOLVED_STAFF_COMMENTS_10-K',\n",
       " 'TSLA_2021_MINE_SAFETY_10-K',\n",
       " 'TSLA_2022_RISK_FACTORS_10-K',\n",
       " 'TSLA_2022_MARKET_RISK_DISCLOSURES_10-K',\n",
       " 'TSLA_2022_LEGAL_PROCEEDINGS_10-K',\n",
       " 'TSLA_2022_UNRESOLVED_STAFF_COMMENTS_10-K',\n",
       " 'TSLA_2022_MINE_SAFETY_10-K']"
      ]
     },
     "execution_count": 10,
     "metadata": {},
     "output_type": "execute_result"
    }
   ],
   "source": [
    "individual_metadata"
   ]
  },
  {
   "cell_type": "code",
   "execution_count": 11,
   "metadata": {},
   "outputs": [],
   "source": [
    "from load_database import load_vector_store_local\n",
    "from utils import maximal_marginal_relevance\n",
    "vecstore = load_vector_store_local(\"sec-10-K\",\"10-K\")"
   ]
  },
  {
   "cell_type": "code",
   "execution_count": 11,
   "metadata": {},
   "outputs": [],
   "source": [
    "from chromadb.utils import embedding_functions\n",
    "query = \"What are the risk Factors of Apple and Tesla for the year 2022 and 2021?\"\n",
    "\n",
    "\n",
    "default_ef = embedding_functions.DefaultEmbeddingFunction()\n",
    "\n",
    "query_embed = default_ef(texts=query)\n",
    "# query_embed"
   ]
  },
  {
   "cell_type": "code",
   "execution_count": 12,
   "metadata": {},
   "outputs": [
    {
     "data": {
      "text/plain": [
       "(384,)"
      ]
     },
     "execution_count": 12,
     "metadata": {},
     "output_type": "execute_result"
    }
   ],
   "source": [
    "import numpy as np\n",
    "query_embed_arr = np.array(query_embed[0])\n",
    "query_embed_arr.shape"
   ]
  },
  {
   "cell_type": "code",
   "execution_count": 28,
   "metadata": {},
   "outputs": [
    {
     "name": "stdout",
     "output_type": "stream",
     "text": [
      "5 5\n",
      "5 5\n",
      "5 5\n",
      "5 5\n"
     ]
    }
   ],
   "source": [
    "from collections import defaultdict\n",
    "all_relevant_docs = defaultdict()\n",
    "for tic in ticker_names:\n",
    "    for yr in years:\n",
    "        individual_metadata = [{\"full_metadata\":elem[0]+\"_\"+elem[1]+\"_\"+elem[2]+\"_\"+doc_name} for elem in list(itertools.product([tic],[yr],section_names))]\n",
    "        where_clause = {\"$or\":individual_metadata}\n",
    "        query_results = vecstore.query(\n",
    "        query_texts=query,\n",
    "        n_results=20,\n",
    "        where=where_clause,\n",
    "        include=[\"metadatas\",\"documents\",\"distances\",\"embeddings\"]\n",
    "        )\n",
    "        idxs = maximal_marginal_relevance(query_embed_arr,query_results['embeddings'][0],k=5)\n",
    "        relevant_docs = [query_results['documents'][0][i] for i in idxs]\n",
    "        relevant_metadata = [ query_results['metadatas'][0][i] for i in idxs]\n",
    "        print(len(relevant_docs),len(relevant_metadata))\n",
    "        all_relevant_docs[f\"{tic}_{yr}\"] = {\"docs\":relevant_docs,\"metadata\":relevant_metadata}"
   ]
  },
  {
   "cell_type": "code",
   "execution_count": 18,
   "metadata": {},
   "outputs": [
    {
     "data": {
      "text/plain": [
       "dict_keys(['AAPL_2021', 'AAPL_2022', 'TSLA_2021', 'TSLA_2022'])"
      ]
     },
     "execution_count": 18,
     "metadata": {},
     "output_type": "execute_result"
    }
   ],
   "source": [
    "all_relevant_docs.keys()"
   ]
  },
  {
   "cell_type": "code",
   "execution_count": 43,
   "metadata": {},
   "outputs": [],
   "source": [
    "# query_results['embeddings'][0]"
   ]
  },
  {
   "cell_type": "code",
   "execution_count": 44,
   "metadata": {},
   "outputs": [
    {
     "data": {
      "text/plain": [
       "[12, 14, 19, 11, 7]"
      ]
     },
     "execution_count": 44,
     "metadata": {},
     "output_type": "execute_result"
    }
   ],
   "source": [
    "idxs = maximal_marginal_relevance(query_embed_arr,query_results['embeddings'][0],k=5)\n",
    "idxs"
   ]
  },
  {
   "cell_type": "code",
   "execution_count": 53,
   "metadata": {},
   "outputs": [],
   "source": [
    "relevant_docs = [query_results['documents'][0][i] for i in idxs]\n",
    "relevant_metadata = [ query_results['metadatas'][0][i] for i in idxs]"
   ]
  },
  {
   "cell_type": "code",
   "execution_count": 54,
   "metadata": {},
   "outputs": [
    {
     "data": {
      "text/plain": [
       "[{'full_metadata': 'AAPL_2022_RISK_FACTORS_10-K'},\n",
       " {'full_metadata': 'AAPL_2022_RISK_FACTORS_10-K'},\n",
       " {'full_metadata': 'AAPL_2022_RISK_FACTORS_10-K'},\n",
       " {'full_metadata': 'AAPL_2022_RISK_FACTORS_10-K'},\n",
       " {'full_metadata': 'AAPL_2022_RISK_FACTORS_10-K'}]"
      ]
     },
     "execution_count": 54,
     "metadata": {},
     "output_type": "execute_result"
    }
   ],
   "source": [
    "relevant_metadata"
   ]
  },
  {
   "cell_type": "code",
   "execution_count": 24,
   "metadata": {},
   "outputs": [
    {
     "name": "stdout",
     "output_type": "stream",
     "text": [
      "AAPL_2021 {'docs': 'The Company’s business, results of operations and financial condition, as well as the price of the Company’s stock, have been adversely affected and could in the future be materially adversely affected by the COVID-19 pandemic.\\n COVID-19 has had, and continues to have, a significant impact around the world, prompting governments and businesses to take unprecedented measures in response. The Company’s minority market share in the global smartphone, personal computer and tablet markets can make developers less inclined to develop or upgrade software for the Company’s products and more inclined to devote their resources to developing and upgrading software for competitors’ products with larger market share.\\n When developers focus their efforts on these competing platforms, the availability and quality of applications for the Company’s devices can suffer. These new ventures are inherently risky and may not be successful.\\n The failure of any significant investment could adversely affect the Company’s business, reputation, results of operations and financial condition.\\n The Company’s retail stores have required and will continue to require a substantial investment and commitment of resources and are subject to numerous risks and uncertainties. life cycles; potential increases in the cost of components, outside manufacturing services, and developing, acquiring and delivering content for the Company’s services; the Company’s ability to manage product quality and warranty costs effectively; shifts in the mix of products and services, or in the geographic, currency or channel mix, including to the extent that regulatory changes require the Company to modify its product and service offerings; fluctuations in foreign exchange rates; and The number of claims, legal proceedings and government investigations involving the Company, and the alleged magnitude of such claims, proceedings and government investigations, has generally increased over time and may continue to increase.\\n The Company has faced and continues to face a significant number of patent claims relating to its cellular-enabled products, and new claims may arise in the future.', 'metadata': [{'full_metadata': 'AAPL_2021_RISK_FACTORS_10-K'}, {'full_metadata': 'AAPL_2021_RISK_FACTORS_10-K'}, {'full_metadata': 'AAPL_2021_RISK_FACTORS_10-K'}, {'full_metadata': 'AAPL_2021_RISK_FACTORS_10-K'}, {'full_metadata': 'AAPL_2021_RISK_FACTORS_10-K'}]}\n"
     ]
    }
   ],
   "source": [
    "for k,v in all_relevant_docs.items():\n",
    "    print(k,v)\n",
    "    break"
   ]
  },
  {
   "cell_type": "code",
   "execution_count": 30,
   "metadata": {},
   "outputs": [
    {
     "name": "stdout",
     "output_type": "stream",
     "text": [
      "{'docs': ['The Company’s business, results of operations and financial condition, as well as the price of the Company’s stock, have been adversely affected and could in the future be materially adversely affected by the COVID-19 pandemic.\\n COVID-19 has had, and continues to have, a significant impact around the world, prompting governments and businesses to take unprecedented measures in response.', 'The Company’s minority market share in the global smartphone, personal computer and tablet markets can make developers less inclined to develop or upgrade software for the Company’s products and more inclined to devote their resources to developing and upgrading software for competitors’ products with larger market share.\\n When developers focus their efforts on these competing platforms, the availability and quality of applications for the Company’s devices can suffer.', 'These new ventures are inherently risky and may not be successful.\\n The failure of any significant investment could adversely affect the Company’s business, reputation, results of operations and financial condition.\\n The Company’s retail stores have required and will continue to require a substantial investment and commitment of resources and are subject to numerous risks and uncertainties.', 'life cycles; potential increases in the cost of components, outside manufacturing services, and developing, acquiring and delivering content for the Company’s services; the Company’s ability to manage product quality and warranty costs effectively; shifts in the mix of products and services, or in the geographic, currency or channel mix, including to the extent that regulatory changes require the Company to modify its product and service offerings; fluctuations in foreign exchange rates; and', 'The number of claims, legal proceedings and government investigations involving the Company, and the alleged magnitude of such claims, proceedings and government investigations, has generally increased over time and may continue to increase.\\n The Company has faced and continues to face a significant number of patent claims relating to its cellular-enabled products, and new claims may arise in the future.'], 'metadata': [{'full_metadata': 'AAPL_2021_RISK_FACTORS_10-K'}, {'full_metadata': 'AAPL_2021_RISK_FACTORS_10-K'}, {'full_metadata': 'AAPL_2021_RISK_FACTORS_10-K'}, {'full_metadata': 'AAPL_2021_RISK_FACTORS_10-K'}, {'full_metadata': 'AAPL_2021_RISK_FACTORS_10-K'}]}\n",
      "{'docs': ['To the extent the COVID-19 pandemic adversely affects the Company’s business, results of operations, financial condition and stock price, it may also have the effect of heightening many of the other risks described in this Part I, Item 1A of this Form 10-K.\\n The Company’s business can be impacted by political events, trade and other international disputes, war, terrorism, natural disasters, public health issues, industrial accidents and other business interruptions.', 'The Company’s minority market share in the global smartphone, personal computer and tablet markets can make developers less inclined to develop or upgrade software for the Company’s products and more inclined to devote their resources to developing and upgrading software for competitors’ products with larger market share.\\n When developers focus their efforts on these competing platforms, the availability and quality of applications for the Company’s devices can suffer.', 'The Company’s gross margins are subject to volatility and downward pressure due to a variety of factors, including: continued industry-wide global product pricing pressures and product pricing actions that the Company may take in response to such pressures; increased competition; the Company’s ability to effectively stimulate demand for certain of its products and services; compressed product life cycles; supply shortages; potential increases in the cost of components, outside manufacturing', 'These new ventures are inherently risky and may not be successful.\\n The failure of any significant investment could materially adversely affect the Company’s business, reputation, results of operations and financial condition.\\n The Company’s retail stores have required and will continue to require a substantial investment and commitment of resources and are subject to numerous risks and uncertainties.', 'The number of claims, legal proceedings and government investigations involving the Company, and the alleged magnitude of such claims, proceedings and government investigations, has generally increased over time and may continue to increase.\\n The Company has faced and continues to face a significant number of patent claims relating to its cellular-enabled products, and new claims may arise in the future.'], 'metadata': [{'full_metadata': 'AAPL_2022_RISK_FACTORS_10-K'}, {'full_metadata': 'AAPL_2022_RISK_FACTORS_10-K'}, {'full_metadata': 'AAPL_2022_RISK_FACTORS_10-K'}, {'full_metadata': 'AAPL_2022_RISK_FACTORS_10-K'}, {'full_metadata': 'AAPL_2022_RISK_FACTORS_10-K'}]}\n",
      "{'docs': ['Unexpected changes in business conditions, materials pricing, labor issues, wars, governmental changes, tariffs, natural disasters such as the March 2011 earthquakes in Japan, health epidemics such as the global COVID-19 pandemic, trade and shipping disruptions and other factors beyond our or our suppliers’ control could also affect these suppliers’ ability to deliver components to us or to remain solvent and operational.', 'We may also experience similar future delays in launching and/or ramping production of our energy storage products and Solar Roof; new product versions or variants; new vehicles such as Tesla Semi, Cybertruck and the new Tesla Roadster; and future features and services such as new Autopilot or FSD features and the autonomous Tesla ride-hailing network.', 'Such estimates are inherently uncertain and changes to our historical or projected experience, especially with respect to products such as Model 3, Model Y and Solar Roof that we have recently introduced and/or that we expect to produce at significantly greater volumes than our past products, may cause material changes to our warranty reserves in the future.\\n Our insurance coverage strategy may not be adequate to protect us from all business risks.', 'In particular, Tesla’s products, business, results of operations, statements and actions are well-publicized by a range of third parties.\\n Such attention includes frequent criticism, which is often exaggerated or unfounded, such as speculation regarding the sufficiency or stability of our management team.\\n Any such negative perceptions, whether caused by us or not, may harm our business and make it more difficult to raise additional funds if needed.', 'It is uncertain as to how such macroeconomic factors will impact us as a company that has been experiencing growth and increasing market share in an industry that has globally been experiencing a recent decline in sales.\\n concerns about our future viability.\\n Finally, the target demographics for our vehicles, particularly Model 3 and Model Y, are highly competitive.'], 'metadata': [{'full_metadata': 'TSLA_2021_RISK_FACTORS_10-K'}, {'full_metadata': 'TSLA_2021_RISK_FACTORS_10-K'}, {'full_metadata': 'TSLA_2021_RISK_FACTORS_10-K'}, {'full_metadata': 'TSLA_2021_RISK_FACTORS_10-K'}, {'full_metadata': 'TSLA_2021_RISK_FACTORS_10-K'}]}\n",
      "{'docs': ['Unexpected changes in business conditions, materials pricing, labor issues, wars, trade policies, natural disasters such as the March 2011 earthquakes in Japan, health epidemics such as the global COVID-19 pandemic, trade and shipping disruptions, port congestions and other factors beyond our or our suppliers’ control could also affect these suppliers’ ability to deliver components to us or to remain solvent and operational.', 'Our current and future warranty reserves may be insufficient to cover future warranty claims.\\n We provide a manufacturer’s warranty on all new and used Tesla vehicles we sell.\\n We also provide certain warranties with respect to the energy generation and storage systems we sell, including on their installation and maintenance.', '15 Finally, the target demographics for our vehicles, particularly Model 3 and Model Y, are highly competitive.\\n Sales of vehicles in the automotive industry tend to be cyclical in many markets, which may expose us to further volatility.\\n Our suppliers may fail to deliver components according to schedules, prices, quality and volumes that are acceptable to us, or we may be unable to manage these components effectively.', 'In particular, Tesla’s products, business, results of operations, statements and actions are well-publicized by a range of third parties.\\n Such attention includes frequent criticism, which is often exaggerated or unfounded, such as speculation regarding the sufficiency or stability of our management team.\\n Any such negative perceptions, whether caused by us or not, may harm our business and make it more difficult to raise additional funds if needed.', 'Increased competition could result in our lower vehicle unit sales, price reductions, revenue shortfalls, loss of customers and loss of market share, which may harm our business, financial condition and operating results.\\n We also face competition in our energy generation and storage business from other manufacturers, developers, installers and service providers of competing energy technologies, as well as from large utilities.'], 'metadata': [{'full_metadata': 'TSLA_2022_RISK_FACTORS_10-K'}, {'full_metadata': 'TSLA_2022_RISK_FACTORS_10-K'}, {'full_metadata': 'TSLA_2022_RISK_FACTORS_10-K'}, {'full_metadata': 'TSLA_2022_RISK_FACTORS_10-K'}, {'full_metadata': 'TSLA_2022_RISK_FACTORS_10-K'}]}\n"
     ]
    },
    {
     "data": {
      "text/plain": [
       "1271"
      ]
     },
     "execution_count": 30,
     "metadata": {},
     "output_type": "execute_result"
    }
   ],
   "source": [
    "def get_relevant_docs_via_mmr(relevant_docs_dict:dict):\n",
    "    relevant_sentences = \"\"\n",
    "\n",
    "    for key,value in relevant_docs_dict.items():\n",
    "        tic,year = key.split(\"_\")\n",
    "        relevant_sentences+=f\"Relevant documents for {tic} in the year {year}\"+\": \"\n",
    "        print(value)\n",
    "        relevant_sentences+=\"\\n\".join(value['docs'])\n",
    "        relevant_sentences+=\"\\n\\n\"\n",
    "    \n",
    "    return relevant_sentences\n",
    "\n",
    "len(get_relevant_docs_via_mmr(all_relevant_docs).split(\" \"))"
   ]
  },
  {
   "cell_type": "code",
   "execution_count": 31,
   "metadata": {},
   "outputs": [],
   "source": [
    "from utils import key_modifier,modify_all_keys,get_query_metadata,get_relevant_sentences,maximal_marginal_relevance\n"
   ]
  },
  {
   "cell_type": "code",
   "execution_count": 1,
   "metadata": {},
   "outputs": [
    {
     "name": "stderr",
     "output_type": "stream",
     "text": [
      "/home/athekunal/.local/lib/python3.10/site-packages/tqdm/auto.py:21: TqdmWarning: IProgress not found. Please update jupyter and ipywidgets. See https://ipywidgets.readthedocs.io/en/stable/user_install.html\n",
      "  from .autonotebook import tqdm as notebook_tqdm\n",
      "No sentence-transformers model found with name /home/athekunal/.cache/torch/sentence_transformers/ProsusAI_finbert. Creating a new one with MEAN pooling.\n",
      "Some weights of the model checkpoint at /home/athekunal/.cache/torch/sentence_transformers/ProsusAI_finbert were not used when initializing BertModel: ['classifier.weight', 'classifier.bias']\n",
      "- This IS expected if you are initializing BertModel from the checkpoint of a model trained on another task or with another architecture (e.g. initializing a BertForSequenceClassification model from a BertForPreTraining model).\n",
      "- This IS NOT expected if you are initializing BertModel from the checkpoint of a model that you expect to be exactly identical (initializing a BertForSequenceClassification model from a BertForSequenceClassification model).\n"
     ]
    }
   ],
   "source": [
    "from load_database import get_relevant_dict_with_mmr,get_relevant_docs_via_mmr\n",
    "from load_database import load_vector_store_local\n",
    "from utils import maximal_marginal_relevance\n",
    "vecstore = load_vector_store_local(\"sec-10-K\",\"10-K\")\n"
   ]
  },
  {
   "cell_type": "code",
   "execution_count": 2,
   "metadata": {},
   "outputs": [],
   "source": [
    "from collections import defaultdict\n",
    "from chromadb.api.types import Documents, EmbeddingFunction, Embeddings\n",
    "from chromadb.utils import embedding_functions\n",
    "import numpy as np\n",
    "import itertools"
   ]
  },
  {
   "cell_type": "code",
   "execution_count": 15,
   "metadata": {},
   "outputs": [],
   "source": [
    "\n",
    "def get_relevant_dict_with_mmr_(llm1_output_dict,restore_collection,user_query,doc_name=\"10-K\"):\n",
    "    section_names = llm1_output_dict['Section_Names']\n",
    "    ticker_names = llm1_output_dict['Tickers']\n",
    "    years = llm1_output_dict['Years']\n",
    "    all_relevant_docs = defaultdict()\n",
    "    default_ef = embedding_functions.DefaultEmbeddingFunction()\n",
    "    query_embed = default_ef(texts=user_query)\n",
    "    query_embed_arr = np.array(query_embed[0])\n",
    "\n",
    "    for tic in ticker_names:\n",
    "        for yr in years:\n",
    "            individual_metadata = [{\"full_metadata\":elem[0]+\"_\"+elem[1]+\"_\"+elem[2]+\"_\"+doc_name} for elem in list(itertools.product([tic],[yr],section_names))]\n",
    "            print(individual_metadata)\n",
    "            where_clause = {\"$or\":individual_metadata}\n",
    "            print(where_clause)\n",
    "            query_results = restore_collection.query(\n",
    "            query_texts=user_query,\n",
    "            n_results=20,\n",
    "            where=where_clause,\n",
    "            include=[\"metadatas\",\"documents\",\"distances\",\"embeddings\"]\n",
    "            )\n",
    "            print(query_results)\n",
    "            idxs = maximal_marginal_relevance(query_embed_arr,query_results['embeddings'][0],k=5)\n",
    "            relevant_docs = [query_results['documents'][0][i] for i in idxs]\n",
    "            relevant_metadata = [ query_results['metadatas'][0][i] for i in idxs]\n",
    "            all_relevant_docs[f\"{tic}_{yr}\"] = {\"docs\":relevant_docs,\"metadata\":relevant_metadata}\n",
    "\n",
    "    return all_relevant_docs"
   ]
  },
  {
   "cell_type": "code",
   "execution_count": 16,
   "metadata": {},
   "outputs": [
    {
     "name": "stdout",
     "output_type": "stream",
     "text": [
      "name='SEC-10-K' id=UUID('68fc286d-f5c1-45c4-893b-58f73a6a7e3c') metadata=None\n"
     ]
    }
   ],
   "source": [
    "print(vecstore)"
   ]
  },
  {
   "cell_type": "code",
   "execution_count": 8,
   "metadata": {},
   "outputs": [
    {
     "name": "stdout",
     "output_type": "stream",
     "text": [
      "{'$or': [{'full_metadata': 'AAPL_2021_RISK FACTORS_10-K'}, {'full_metadata': 'AAPL_2021_MARKET RISK DISCLOSURES_10-K'}, {'full_metadata': 'AAPL_2021_LEGAL PROCEEDINGS_10-K'}, {'full_metadata': 'AAPL_2021_UNRESOLVED STAFF COMMENTS_10-K'}, {'full_metadata': 'AAPL_2021_MINE SAFETY_10-K'}]}\n",
      "{'ids': [[]], 'embeddings': [[]], 'documents': [[]], 'metadatas': [[]], 'distances': [[]]}\n",
      "{'$or': [{'full_metadata': 'AAPL_2022_RISK FACTORS_10-K'}, {'full_metadata': 'AAPL_2022_MARKET RISK DISCLOSURES_10-K'}, {'full_metadata': 'AAPL_2022_LEGAL PROCEEDINGS_10-K'}, {'full_metadata': 'AAPL_2022_UNRESOLVED STAFF COMMENTS_10-K'}, {'full_metadata': 'AAPL_2022_MINE SAFETY_10-K'}]}\n",
      "{'ids': [[]], 'embeddings': [[]], 'documents': [[]], 'metadatas': [[]], 'distances': [[]]}\n",
      "defaultdict(None, {'AAPL_2021': {'docs': [], 'metadata': []}, 'AAPL_2022': {'docs': [], 'metadata': []}})\n"
     ]
    }
   ],
   "source": [
    "llm1_output_dict = {'Section_Names': ['RISK_FACTORS', 'MARKET RISK DISCLOSURES', 'LEGAL PROCEEDINGS', 'UNRESOLVED STAFF COMMENTS', 'MINE SAFETY'], 'Tickers': ['AAPL'], 'Years': ['2021', '2022'], 'augmented_query': ['Compare the risk associated with Apple stock for the year 2021', 'Compare the risk associated with Apple stock for the year 2022']}\n",
    "relevant_dict = get_relevant_dict_with_mmr_(llm1_output_dict,vecstore,\"Compare the risk associated with Apple stock for the years 2021 and 2022?\")\n",
    "print(relevant_dict)\n"
   ]
  },
  {
   "cell_type": "code",
   "execution_count": null,
   "metadata": {},
   "outputs": [],
   "source": [
    "relevant_sentences = get_relevant_docs_via_mmr(relevant_dict)\n",
    "print(relevant_sentences)"
   ]
  },
  {
   "cell_type": "code",
   "execution_count": 17,
   "metadata": {},
   "outputs": [],
   "source": [
    "# user_query = \"Compare the risk associated with Apple stock for the years 2021 and 2022?\"\n",
    "# vecstore.query(\n",
    "#     query_texts=user_query,\n",
    "#     n_results=2,\n",
    "#     include=[\"metadatas\",\"documents\",\"distances\",\"embeddings\"]\n",
    "#     )"
   ]
  },
  {
   "cell_type": "code",
   "execution_count": 20,
   "metadata": {},
   "outputs": [
    {
     "data": {
      "text/plain": [
       "'RISK_FACTORS'"
      ]
     },
     "execution_count": 20,
     "metadata": {},
     "output_type": "execute_result"
    }
   ],
   "source": [
    "\"_\".join(\"RISK_FACTORS\".split(\" \"))"
   ]
  },
  {
   "cell_type": "code",
   "execution_count": 2,
   "metadata": {},
   "outputs": [
    {
     "name": "stderr",
     "output_type": "stream",
     "text": [
      "No sentence-transformers model found with name /home/athekunal/.cache/torch/sentence_transformers/ProsusAI_finbert. Creating a new one with MEAN pooling.\n",
      "Some weights of the model checkpoint at /home/athekunal/.cache/torch/sentence_transformers/ProsusAI_finbert were not used when initializing BertModel: ['classifier.bias', 'classifier.weight']\n",
      "- This IS expected if you are initializing BertModel from the checkpoint of a model trained on another task or with another architecture (e.g. initializing a BertForSequenceClassification model from a BertForPreTraining model).\n",
      "- This IS NOT expected if you are initializing BertModel from the checkpoint of a model that you expect to be exactly identical (initializing a BertForSequenceClassification model from a BertForSequenceClassification model).\n"
     ]
    }
   ],
   "source": [
    "from langchain.embeddings import HuggingFaceEmbeddings\n",
    "from chromadb.api.types import Documents, EmbeddingFunction, Embeddings\n",
    "\n",
    "finbert_embed = HuggingFaceEmbeddings(model_name=\"ProsusAI/finbert\")\n",
    "\n",
    "class FinBertEmbeddings(EmbeddingFunction):\n",
    "    def __call__(self, texts: Documents) -> Embeddings:\n",
    "        embed_out = finbert_embed.embed_documents(texts)\n",
    "        return embed_out"
   ]
  },
  {
   "cell_type": "code",
   "execution_count": 4,
   "metadata": {},
   "outputs": [],
   "source": [
    "query = \"What are the risk factors Apple for the year 2022?\"\n",
    "\n",
    "finbert = FinBertEmbeddings()"
   ]
  },
  {
   "cell_type": "code",
   "execution_count": 7,
   "metadata": {},
   "outputs": [],
   "source": [
    "import numpy as np\n",
    "query_embed = finbert(texts=query)\n",
    "query_embed_arr = np.array(query_embed[0])"
   ]
  },
  {
   "cell_type": "code",
   "execution_count": 8,
   "metadata": {},
   "outputs": [
    {
     "data": {
      "text/plain": [
       "array([ 1.82527483e-01,  2.10601196e-01, -2.58634448e-01, -2.08617985e-01,\n",
       "       -9.78663191e-02, -7.12072432e-01,  7.79373944e-01,  6.05757713e-01,\n",
       "        2.57762700e-01, -1.62297443e-01, -4.09485430e-01, -4.43593144e-01,\n",
       "        3.94873530e-01,  2.59973437e-01,  1.37500418e-02, -4.95217331e-02,\n",
       "        3.22281986e-01,  4.67214704e-01,  3.84518653e-01,  7.69835338e-02,\n",
       "        3.88191104e-01,  1.59892544e-01,  2.74140090e-02,  2.96534538e-01,\n",
       "       -2.21730903e-01,  7.43004322e-01,  1.94182739e-01, -3.12091261e-01,\n",
       "        7.63344467e-02,  5.54689407e-01,  6.61128461e-01,  3.79334718e-01,\n",
       "       -2.87863642e-01,  4.58972663e-01,  5.86117089e-01, -4.76604313e-01,\n",
       "        1.56925365e-01, -2.43099127e-02, -4.13171202e-01,  8.34424123e-02,\n",
       "       -7.89192855e-01, -2.88674563e-01,  3.10100198e-01, -5.59933841e-01,\n",
       "        6.27205595e-02, -7.55767524e-01,  2.88778514e-01, -3.42592783e-02,\n",
       "       -5.05156994e-01,  5.89336693e-01, -8.60973299e-01, -1.30691871e-01,\n",
       "       -1.29021347e-01,  2.18047604e-01, -2.07628176e-01,  5.40426254e-01,\n",
       "       -4.59064031e-03, -6.09916449e-01, -4.38842148e-01, -2.55733937e-01,\n",
       "        9.98886451e-02,  3.14099640e-01, -3.45926672e-01,  1.69662789e-01,\n",
       "        2.31671333e-01,  5.92478514e-01,  2.00797126e-01,  1.81453541e-01,\n",
       "       -9.95503008e-01, -1.08720116e-01, -1.76645100e-01, -2.79356182e-01,\n",
       "        2.79401660e-01,  3.29339474e-01,  7.68836141e-02,  6.02687776e-01,\n",
       "       -4.96645838e-01,  2.61477739e-01,  1.69577394e-02, -7.74430990e-01,\n",
       "       -1.73786029e-01,  4.44673270e-01, -2.75321275e-01,  1.38557422e+00,\n",
       "       -8.60502720e-02, -3.56525294e-02, -4.77384210e-01, -2.90530533e-01,\n",
       "       -1.58836246e-01,  4.99153346e-01,  2.06893325e-01, -1.97746709e-01,\n",
       "       -3.27671021e-01,  7.00788647e-02,  1.02308102e-01,  3.78966719e-01,\n",
       "       -3.19682866e-01,  5.58852144e-02, -3.67840916e-01, -6.13930635e-02,\n",
       "       -7.93284595e-01, -1.04578184e-02,  6.87711656e-01,  2.51522988e-01,\n",
       "       -4.56264645e-01,  4.49071646e-01,  1.19448649e-02, -3.04800719e-01,\n",
       "        5.27559340e-01,  4.39904362e-01,  2.90462166e-01, -3.80383968e-01,\n",
       "        1.07728876e-01, -4.84726757e-01, -3.81525010e-01,  5.24153411e-01,\n",
       "        2.48221517e-01, -2.14930058e-01, -2.85040110e-01,  3.22743416e-01,\n",
       "       -3.32458854e-01, -9.53261852e-01, -2.45321527e-01,  1.32535458e-01,\n",
       "       -1.46035209e-01,  1.05157614e-01,  1.09498851e-01, -1.19173795e-01,\n",
       "       -4.57329988e-01,  3.85508090e-01, -3.89927357e-01,  5.52695692e-01,\n",
       "        5.30857563e-01, -4.82697576e-01, -7.44470119e-01,  5.12235463e-01,\n",
       "        2.05991268e-01, -6.00528955e-01, -7.18265712e-01,  1.76208302e-01,\n",
       "       -2.91432261e-01,  5.41448891e-01,  4.35368009e-02, -4.05976772e-01,\n",
       "        5.43188035e-01,  6.50197342e-02,  4.38414186e-01, -6.75745085e-02,\n",
       "        7.84306288e-01, -1.40989229e-01,  6.55894876e-02, -4.08982724e-01,\n",
       "        2.29393527e-01, -3.31838541e-02, -7.83573329e-01, -8.63443077e-01,\n",
       "        1.13647796e-01,  9.78812218e-01,  2.10191146e-01,  1.13587022e-01,\n",
       "        5.51632106e-01,  8.26297924e-02, -3.39587070e-02,  2.44882688e-01,\n",
       "        2.24099159e-01,  5.54589808e-01,  2.65242845e-01,  6.21103883e-01,\n",
       "       -2.01318204e-01, -2.17794105e-01, -5.75335085e-01,  1.16013490e-01,\n",
       "        7.77881861e-01,  1.04234211e-01, -7.67793238e-01,  1.67092964e-01,\n",
       "        7.52466261e-01,  3.61232668e-01,  1.61213279e-01, -7.68789291e-01,\n",
       "       -3.19997120e+00,  1.17291175e-01, -1.54857650e-01, -4.81327653e-01,\n",
       "        8.13447773e-01, -2.68505275e-01,  2.66905189e-01, -2.20057607e-01,\n",
       "       -5.26685059e-01,  2.87564588e-03, -6.71679676e-01, -3.12397242e-01,\n",
       "       -2.88857371e-01, -1.93842649e-02,  5.11047363e-01, -1.38918296e-01,\n",
       "       -4.93397474e-01, -2.19890714e-01,  2.12784708e-01,  4.37236041e-01,\n",
       "        4.26136941e-01, -3.89651865e-01,  2.97176808e-01, -5.64393587e-02,\n",
       "       -1.09367073e-01, -1.57612279e-01, -4.90691848e-02, -3.89675140e-01,\n",
       "        1.61031976e-01,  4.17680115e-01, -5.00414312e-01,  8.33442986e-01,\n",
       "       -2.22228914e-02,  4.51101691e-01,  1.98136523e-01, -8.40818882e-01,\n",
       "        1.52242184e-01, -7.09215701e-02, -7.84083977e-02,  3.43066663e-01,\n",
       "        1.52301386e-01, -1.82007089e-01, -5.12751639e-01,  5.08451283e-01,\n",
       "       -3.48036170e-01, -2.42581964e-01, -1.57746851e-01, -2.62744933e-01,\n",
       "       -4.51751828e-01,  1.56357244e-01, -1.48192748e-01, -3.74216437e-01,\n",
       "        4.70956206e-01,  4.83806767e-02, -1.46783486e-01,  8.62031698e-01,\n",
       "       -2.08787229e-02, -1.85643390e-01,  3.85953598e-02, -5.77339947e-01,\n",
       "        3.36165071e-01,  1.43607274e-01,  5.88513851e-01, -2.27099016e-01,\n",
       "        2.37937331e-01,  2.99154222e-01,  6.19221747e-01, -1.16743587e-01,\n",
       "        7.42484868e-01, -3.58432293e-01, -7.64577165e-02, -5.51320493e-01,\n",
       "        1.33663416e-03, -9.16949987e-01, -2.89073080e-01, -5.33764772e-02,\n",
       "        7.54525280e-03, -5.45292735e-01, -3.87618452e-01, -2.90564656e-01,\n",
       "       -1.09238684e-01,  1.50338456e-01,  4.95197505e-01,  2.40122676e-01,\n",
       "       -1.44260988e-01, -3.00903291e-01,  5.75212479e-01,  4.24217552e-01,\n",
       "       -3.71796280e-01, -1.16341598e-01,  1.95524156e-01, -8.24156523e-01,\n",
       "       -4.52603288e-02,  5.18169224e-01,  2.69315001e-02,  6.48882568e-01,\n",
       "        4.76989865e-01, -2.74727851e-01,  1.58822238e-02,  4.15764421e-01,\n",
       "        7.50014246e-01,  3.99906129e-01, -6.09888613e-01,  1.70450136e-01,\n",
       "       -3.77019733e-01, -4.15082306e-01, -4.12543148e-01, -3.01971793e-01,\n",
       "        5.70749223e-01, -3.02700609e-01,  6.34547845e-02, -1.62742078e-01,\n",
       "       -1.12403385e-01, -8.11732784e-02,  3.45709324e-01,  2.08181500e-01,\n",
       "       -5.38301282e-02,  2.76609063e-01,  4.63731527e-01, -6.22630954e-01,\n",
       "       -5.65839827e-01,  1.77195534e-01,  1.39962882e-01,  1.09962463e-01,\n",
       "        3.49009901e-01,  8.79694045e-01,  4.61261779e-01,  1.00570552e-01,\n",
       "        5.68617046e-01,  6.20531261e-01,  2.15398431e-01, -1.13174045e+00,\n",
       "        4.62500244e-01,  1.33702559e-02,  5.41183054e-01,  8.07550624e-02,\n",
       "       -4.52591181e-01,  7.84505680e-02, -3.25858779e-02, -7.17471302e-01,\n",
       "        7.36562908e-01,  7.74867535e-01,  5.50456583e-01,  4.53246124e-02,\n",
       "        5.45687139e-01, -3.87087584e-01, -5.59345484e-01, -1.19259059e-02,\n",
       "       -2.15327188e-01,  1.46926090e-01,  9.50843990e-01, -3.77116293e-01,\n",
       "        4.97446924e-01,  5.44689596e-01, -1.91730574e-01, -2.26167843e-01,\n",
       "       -7.46898353e-01, -8.68800282e-02, -2.73903817e-01, -8.35706234e-01,\n",
       "       -6.80250943e-01,  4.65229480e-03,  1.36950076e-01,  5.42649448e-01,\n",
       "        1.20245554e-01, -2.60034442e-01,  8.54474485e-01, -8.11968386e-01,\n",
       "        2.55845010e-01, -3.04782778e-01,  5.86559236e-01, -3.44580978e-01,\n",
       "        4.51810688e-01, -2.08688021e-01, -3.01984638e-01,  1.34660050e-01,\n",
       "        9.14557949e-02,  8.05229366e-01,  1.67408362e-02, -5.23032367e-01,\n",
       "       -2.88012177e-01, -3.34756136e-01, -8.29477534e-02, -4.37054425e-01,\n",
       "        6.33065164e-01,  1.43461540e-01, -1.31887808e-01, -5.48239768e-01,\n",
       "        6.33582532e-01, -5.62308550e-01, -3.37430716e-01,  2.46198133e-01,\n",
       "       -6.04782879e-01, -1.28796101e-01, -2.43612930e-01, -5.31002760e-01,\n",
       "       -3.55554134e-01,  6.07721508e-01,  3.94798756e-01,  3.47772330e-01,\n",
       "       -3.63265872e-01, -3.18091989e-01, -1.40778020e-01,  4.37897176e-01,\n",
       "       -3.57737392e-01,  6.79174438e-02,  2.12032795e-01, -7.33962283e-02,\n",
       "        7.14364052e-01, -4.34973724e-02, -3.74713749e-01, -2.09934756e-01,\n",
       "        5.89134507e-02,  1.67706415e-01, -5.49415529e-01, -4.91987497e-01,\n",
       "       -1.01427726e-01, -9.83952940e-01,  1.21519350e-01,  6.03044033e-01,\n",
       "       -8.91605094e-02,  6.02057934e-01, -3.41454707e-02, -2.97005828e-02,\n",
       "        9.94351685e-01,  2.39089131e-01,  4.97281820e-01, -4.95597869e-01,\n",
       "       -7.20352232e-01, -1.06629334e-01, -6.82000443e-02, -1.50663480e-01,\n",
       "       -2.52614766e-01, -6.98600113e-02, -1.35733616e+00, -2.56948918e-01,\n",
       "       -4.05533791e-01, -1.91082194e-01, -3.58953983e-01, -9.68176067e-01,\n",
       "        8.50820005e-01,  5.28335452e-01, -3.59819680e-01, -4.34581518e-01,\n",
       "        6.50716543e-01,  6.98070467e-01,  2.05383897e-01, -1.44178227e-01,\n",
       "       -4.50962000e-02,  9.16530073e-01,  4.15992647e-01, -4.09316301e-01,\n",
       "       -6.41680658e-01, -7.51617411e-03, -4.43092823e-01, -3.15798968e-01,\n",
       "       -6.57504737e-01, -6.53518677e-01,  3.73063117e-01,  2.39457432e-02,\n",
       "        4.31112260e-01,  7.05111325e-02, -6.42729342e-01, -3.03908855e-01,\n",
       "        5.41144200e-02, -2.66250521e-01,  5.71964085e-01,  7.62062967e-01,\n",
       "       -1.76295027e-01,  2.79588312e-01, -1.12627375e+00,  3.35014343e-01,\n",
       "       -7.88276643e-02,  7.25442350e-01,  1.10054679e-01,  5.53889573e-01,\n",
       "        1.52518630e-01,  8.39965165e-01,  1.13158882e-01, -6.45354211e-01,\n",
       "        4.32501227e-01, -8.32353413e-01, -3.54382515e-01, -6.95473433e-01,\n",
       "       -2.21956924e-01,  6.87368140e-02,  7.59469196e-02, -2.55519956e-01,\n",
       "       -5.94209647e-03,  2.94815511e-01,  6.83688819e-02,  1.11717689e+00,\n",
       "        1.97078153e-01, -6.08730502e-02,  4.72553045e-01,  3.07080656e-01,\n",
       "       -8.23747933e-01,  5.99418759e-01,  8.83861557e-02, -4.17950034e-01,\n",
       "        2.17185438e-01, -3.21711183e-01, -3.48278999e-01,  7.20788896e-01,\n",
       "        2.68663108e-01, -3.26064855e-01, -5.06255805e-01,  2.62176037e-01,\n",
       "       -1.00801826e-01, -7.52780735e-01, -3.13843608e-01, -3.22989225e-02,\n",
       "        4.62708950e-01,  7.68255955e-03, -7.21028030e-01,  1.34108528e-01,\n",
       "        1.86662510e-01,  4.50444490e-01,  4.67973471e-01,  1.11718059e-01,\n",
       "        3.96569699e-01, -7.29875982e-01, -9.64029133e-01, -3.62115771e-01,\n",
       "        4.84960675e-01,  4.89981063e-02,  2.43055627e-01,  2.02459082e-01,\n",
       "        1.76552773e-01,  1.77212968e-01,  1.21123530e-01,  6.17662609e-01,\n",
       "       -6.27279207e-02, -1.85197756e-01, -9.91535857e-02,  5.18126309e-01,\n",
       "       -1.36034086e-01, -3.82045984e-01,  1.90373316e-01, -5.16443364e-02,\n",
       "       -3.61277938e-01,  1.43448070e-01,  1.76694989e-01,  4.83336687e-01,\n",
       "        1.22121423e-01,  2.54417467e-03,  2.10694060e-01, -6.24173224e-01,\n",
       "       -5.80887020e-01, -4.06005263e-01,  1.08449769e+00, -1.93200409e-02,\n",
       "       -5.31481326e-01,  3.34455162e-01, -2.91336864e-01,  3.88961285e-01,\n",
       "       -6.67017400e-02, -3.24356288e-01, -2.75019497e-01,  1.12136446e-01,\n",
       "       -6.12982213e-01, -3.20098639e-01,  4.75490093e-01,  3.54204550e-02,\n",
       "       -5.70754468e-01, -2.29466155e-01, -1.75358519e-01, -3.16411585e-01,\n",
       "       -4.84525830e-01, -4.21151161e-01, -7.00682914e-03,  4.37545270e-01,\n",
       "        2.81539321e-01,  2.28286564e-01,  1.24698631e-01,  8.32718849e-01,\n",
       "        4.87892538e-01, -2.57875528e-02, -4.65627640e-01, -2.51402467e-04,\n",
       "       -1.67521313e-01, -3.07972804e-02,  6.76841736e-01, -1.18322456e+00,\n",
       "       -3.35218430e-01,  1.56789944e-01,  3.94371510e-01,  4.91601042e-02,\n",
       "       -1.39229059e-01,  4.45670485e-02, -8.41365084e-02,  3.49313408e-01,\n",
       "       -3.38087492e-02, -1.93815470e-01,  2.50113010e-02,  5.54814160e-01,\n",
       "        7.09485531e-01, -1.05343305e-01, -1.09215772e+00,  1.12034798e-01,\n",
       "       -5.42345531e-02, -4.83556867e-01, -7.22209692e-01,  3.81262749e-01,\n",
       "        7.48254836e-01, -1.11068714e+00, -1.24264687e-01,  6.65467680e-02,\n",
       "       -1.96306035e-01,  6.31099164e-01, -3.45275879e-01, -9.11675468e-02,\n",
       "        3.09686065e-01, -1.25187933e-01, -6.82283878e-01,  2.23590419e-01,\n",
       "       -5.59787333e-01, -7.66309023e-01,  2.70383265e-02,  1.08910114e-01,\n",
       "       -1.12673618e-01,  3.50974917e-01, -1.01118982e-02,  3.52914296e-02,\n",
       "        2.08859727e-01, -2.66437531e-01, -4.08052891e-01,  5.27704060e-02,\n",
       "       -4.58941698e-01,  5.10141671e-01, -1.91257358e-01, -2.67943531e-01,\n",
       "        6.36640787e-01, -2.26326331e-01, -2.07486510e-01, -6.93027198e-01,\n",
       "        7.53642142e-01,  2.96280175e-01, -7.78277457e-01, -5.13816118e-01,\n",
       "        6.21658564e-01,  9.20434237e-01, -5.92752099e-01, -2.90485948e-01,\n",
       "       -4.83278602e-01, -2.76344985e-01,  1.83923081e-01,  5.77609718e-01,\n",
       "       -1.33761778e-01, -6.78287446e-01,  1.08107305e+00,  1.04990280e+00,\n",
       "       -1.64430782e-01,  6.63202107e-01, -4.96601433e-01, -4.26513791e-01,\n",
       "        9.80814174e-02,  1.29695296e-01,  4.65180278e-01, -2.71481276e-01,\n",
       "       -2.89099127e-01,  7.26271927e-01, -4.24167030e-02, -3.41204554e-01,\n",
       "       -7.91279450e-02,  4.98889714e-01, -1.11480486e+00, -5.57865560e-01,\n",
       "       -1.86431289e-01, -1.11108266e-01,  7.08245695e-01,  5.51891267e-01,\n",
       "        4.99702506e-02, -4.34570722e-02,  2.40187362e-01,  1.00412883e-01,\n",
       "        4.67838138e-01,  2.46293738e-01, -1.04066610e-01,  1.83544859e-01,\n",
       "       -1.76434517e-01,  2.92684972e-01, -3.85261774e-01, -1.36147678e-01,\n",
       "        3.32065493e-01,  1.64054837e-02,  2.45605245e-01, -5.67829609e-03,\n",
       "        2.71726996e-01,  1.16846472e-01, -2.25588426e-01, -5.80761671e-01,\n",
       "       -1.36268334e-02,  7.46087432e-02, -1.74912050e-01, -5.31567812e-01,\n",
       "       -2.37227440e-01,  3.77774350e-02,  1.45746186e-01,  6.57913148e-01,\n",
       "        2.33906507e-03,  3.05681229e-02, -3.39014530e-02,  5.12585677e-02,\n",
       "       -2.07388282e-01,  5.53484619e-01, -8.60835016e-01, -1.17024195e+00,\n",
       "       -5.45522034e-01, -6.85954392e-02, -5.89893699e-01, -1.96049765e-01,\n",
       "        8.27755928e-01, -9.37688529e-01, -5.26945651e-01, -2.15892479e-01,\n",
       "        7.61050582e-02, -5.25526702e-01, -2.60978136e-02, -7.07139671e-02,\n",
       "       -3.67886312e-02, -2.83588082e-01,  4.97179121e-01, -1.43795148e-01,\n",
       "       -6.99160481e-03, -2.39728525e-01,  6.90845907e-01,  1.34335369e-01,\n",
       "        7.04793632e-01, -9.47038114e-01, -4.20532703e-01,  6.16339445e-02,\n",
       "        3.38564724e-01, -4.30618882e-01,  7.83348083e-01,  1.19810857e-01,\n",
       "       -7.03200579e-01, -6.45779431e-01, -6.55398428e-01,  2.90273875e-01,\n",
       "       -1.45645750e+00,  4.63584989e-01, -4.33551788e-01, -5.35881937e-01,\n",
       "       -2.94485360e-01, -8.66020322e-02, -3.11536580e-01, -2.76589125e-01,\n",
       "        3.82620655e-02, -3.69751960e-01,  4.52321291e-01, -1.43793285e-01,\n",
       "       -2.61761516e-01,  3.90570670e-01, -3.30633432e-01,  6.61475182e-01,\n",
       "       -2.13821921e-02,  5.07836163e-01,  7.06318244e-02,  4.08229679e-01,\n",
       "       -4.62812752e-01,  2.87804723e-01,  5.94232976e-01, -8.22776377e-01,\n",
       "       -6.34772480e-01,  1.96255878e-01, -6.39719486e-01, -6.10540919e-02,\n",
       "       -1.03111841e-01,  6.54043853e-01, -7.72302225e-02,  1.27003208e-01,\n",
       "        2.90753573e-01, -1.65864125e-01, -2.00670168e-01,  2.85843015e-03,\n",
       "        2.72215873e-01, -6.55816257e-01,  1.61157191e-01,  2.49088481e-01,\n",
       "       -5.03680587e-01, -8.56031239e-01, -7.70157635e-01, -4.93991762e-01,\n",
       "        6.69115543e-01,  1.75207611e-02, -1.45064965e-01,  1.80107489e-01])"
      ]
     },
     "execution_count": 8,
     "metadata": {},
     "output_type": "execute_result"
    }
   ],
   "source": [
    "query_embed_arr"
   ]
  },
  {
   "cell_type": "code",
   "execution_count": null,
   "metadata": {},
   "outputs": [],
   "source": []
  }
 ],
 "metadata": {
  "kernelspec": {
   "display_name": "Python 3",
   "language": "python",
   "name": "python3"
  },
  "language_info": {
   "codemirror_mode": {
    "name": "ipython",
    "version": 3
   },
   "file_extension": ".py",
   "mimetype": "text/x-python",
   "name": "python",
   "nbconvert_exporter": "python",
   "pygments_lexer": "ipython3",
   "version": "3.10.6"
  },
  "orig_nbformat": 4
 },
 "nbformat": 4,
 "nbformat_minor": 2
}
